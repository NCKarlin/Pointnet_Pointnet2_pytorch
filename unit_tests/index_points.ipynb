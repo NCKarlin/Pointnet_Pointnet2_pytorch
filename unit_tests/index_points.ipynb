{
 "cells": [
  {
   "cell_type": "markdown",
   "metadata": {},
   "source": [
    "# index_points function\n",
    "The index-points function is a central function within the overall model. At several stages within a single pass, the respective sampled points have to be selected and re-indexed for the next layer or function to process them. This notebook aims at specifically looking at this function with its respective inputs, as for the multi-scale-grouping (MSG) version of this model, currently we are receiving the following error: <br>\n",
    "<br>\n",
    "*RuntimeError: CUDA error: device-side assert triggered* <br>\n",
    "<br>\n",
    "This usually means, that there is something going sideways with the indices, I have found out. Therefore we will now adjust the function and test it in all its glory to finally get rid of this motherf****** error."
   ]
  },
  {
   "cell_type": "markdown",
   "metadata": {},
   "source": [
    "## Imports and Data"
   ]
  },
  {
   "cell_type": "code",
   "execution_count": null,
   "metadata": {},
   "outputs": [
    {
     "ename": "",
     "evalue": "",
     "output_type": "error",
     "traceback": [
      "\u001b[1;31mRunning cells with 'pointnet2' requires the ipykernel package.\n",
      "\u001b[1;31mRun the following command to install 'ipykernel' into the Python environment. \n",
      "\u001b[1;31mCommand: 'conda install -n pointnet2 ipykernel --update-deps --force-reinstall'"
     ]
    }
   ],
   "source": [
    "# IMPORTS\n",
    "import torch\n",
    "import numpy as np\n",
    "\n",
    "# DATA\n",
    "#here I will have to insert some random tensors in the respective shape for all the layers etc, so we can test it properly"
   ]
  },
  {
   "cell_type": "markdown",
   "metadata": {},
   "source": [
    "## Previous definition of index_points\n",
    "In order to evaluate the situation properly, I have inserted the commented and traditional verison of the function definition below. For clarity it has been renamed **index_points_old**."
   ]
  },
  {
   "cell_type": "code",
   "execution_count": null,
   "metadata": {},
   "outputs": [],
   "source": [
    "# Traditional definition of inddex_points\n",
    "def index_points_old(points, idx):\n",
    "    \"\"\"\n",
    "    Indexing points according to new group index.\n",
    "    \n",
    "    Input:\n",
    "        points: input points data, [Batch/ Blocks, Num Points, Num Features]\n",
    "        idx: sample index data, [Batch/ Blocks, New Num Points]\n",
    "    Return:\n",
    "        new_points: indexed points data, [Batches/ Blocks, New Num Points, Num Features]\n",
    "    \"\"\"\n",
    "    device = points.device\n",
    "    B = points.shape[0] # B is number of batches/ blocks\n",
    "    # Defining views/ shapes for the re-indexing\n",
    "    view_shape = list(idx.shape)\n",
    "    view_shape[1:] = [1] * (len(view_shape) - 1)\n",
    "    repeat_shape = list(idx.shape)\n",
    "    repeat_shape[0] = 1\n",
    "    # Batch/ Block indexing for input points according to previously defined views/ shapes\n",
    "    batch_indices = torch.arange(B, dtype=torch.long).to(device).view(view_shape).repeat(repeat_shape)\n",
    "    # Picking corresponding points from input points\n",
    "    new_points = points[batch_indices, idx, :]\n",
    "    \n",
    "    # Return reindexed points according to batch/ block index and New Num Points\n",
    "    return new_points"
   ]
  },
  {
   "cell_type": "markdown",
   "metadata": {},
   "source": [
    "## Testable Hypotheses\n"
   ]
  },
  {
   "cell_type": "markdown",
   "metadata": {},
   "source": [
    "Now, since the error seems to arise spontaneously at almost random iterations (or better said, to me random iterations), here you can find some ideas for what has been going sideways:<br>\n",
    "- batch/block number/index does not match\n",
    "- indices and points are on different devices \n",
    "- more will follow..."
   ]
  },
  {
   "cell_type": "markdown",
   "metadata": {},
   "source": [
    "## Solutions"
   ]
  },
  {
   "cell_type": "markdown",
   "metadata": {},
   "source": [
    "After taking a look at the testable hypotheses, and also trying to evaluate those accordingly, in the following you will find the proposed solutions and their results."
   ]
  },
  {
   "cell_type": "markdown",
   "metadata": {},
   "source": [
    "### 1. Writing own re-indexing function"
   ]
  },
  {
   "cell_type": "markdown",
   "metadata": {},
   "source": [
    "As the logic of it should be rather straightforward, my first initial thought is to re-write the entire function according to my own understanding of its functionality, then subsequent debugging might also be easier. A first draft of a version can be found below:"
   ]
  },
  {
   "cell_type": "code",
   "execution_count": null,
   "metadata": {},
   "outputs": [],
   "source": [
    "def index_points(points, idx):\n",
    "    \"\"\"\n",
    "    Indexing points according to new group index.\n",
    "    \n",
    "    Input:\n",
    "        points: input points data, [Batch/ Blocks, Num Points, Num Features]\n",
    "        idx: sample index data, [Batch/ Blocks, New Num Points]\n",
    "    Return:\n",
    "        new_points: indexed points data, [Batches/ Blocks, New Num Points, Num Features]\n",
    "    \"\"\"\n",
    "    \n",
    "    device = points.device\n",
    "    B = points.shape[0] # B is number of batches/ blocks\n",
    "    \n",
    "    # Check for index shape\n",
    "    if idx.shape[0] < B:\n",
    "        print(f\"Batch number lower for indeces. Should be {B}, but is {idx.shape[0]}\")\n",
    "    elif idx.shape[0] > B:\n",
    "        print(f\"Batch number higher for indeces. Should be {B}, but is {idx.shape[0]}\")\n",
    "        \n",
    "    # Defining shapes in respective dimension to be indexed\n",
    "    batch_shape = sample_shape = list(idx.shape)\n",
    "    batch_shape[1:] = sample_shape[0] = 1\n",
    "    \n",
    "    # Creating batch indices by indexing according to the shapes\n",
    "    batch_indices = torch.arange(B, dtyp=torch.long).to(device).view(batch_shape).repeat(sample_shape)\n",
    "    \n",
    "    # Selecting corresponding point from input points\n",
    "    new_points = points[batch_indices, idx, :]\n",
    "    \n",
    "    # Return reindexed points according to batch/ block index\n",
    "    return new_points"
   ]
  }
 ],
 "metadata": {
  "kernelspec": {
   "display_name": "pointnet2",
   "language": "python",
   "name": "python3"
  },
  "language_info": {
   "name": "python",
   "version": "3.7.16"
  },
  "orig_nbformat": 4
 },
 "nbformat": 4,
 "nbformat_minor": 2
}
