{
 "cells": [
  {
   "cell_type": "markdown",
   "metadata": {},
   "source": [
    "# Simple Visualization of the Marked Input Point Cloud"
   ]
  },
  {
   "cell_type": "markdown",
   "metadata": {},
   "source": [
    "This script was prepared to showcase the 3D point cloud at the DTU StartUp-Day in case interested people would like to interact with something."
   ]
  },
  {
   "cell_type": "code",
   "execution_count": 2,
   "metadata": {},
   "outputs": [
    {
     "name": "stdout",
     "output_type": "stream",
     "text": [
      "FEngine (64 bits) created at 0x7fbf2ef40000 (threading is enabled)\n",
      "FEngine resolved backend: OpenGL\n"
     ]
    },
    {
     "name": "stderr",
     "output_type": "stream",
     "text": [
      "[error] GLFW error: Cocoa: Failed to find service port for display\n"
     ]
    }
   ],
   "source": [
    "# For paths\n",
    "import os \n",
    "\n",
    "# For data processing\n",
    "import torch\n",
    "import numpy as np\n",
    "from torch.utils.data import Dataset\n",
    "import math\n",
    "\n",
    "\n",
    "# For 3D visualization\n",
    "import open3d as o3d\n",
    "import matplotlib.pyplot as plt\n",
    "from mpl_toolkits.mplot3d import proj3d\n",
    "\n",
    "# Setting the root for this repo\n",
    "ROOT = os.path.realpath(\"..\")\n",
    "\n",
    "# Creating/ Making the point cloud\n",
    "def makePC(point_data, color_data=np.array([])):\n",
    "    pcd = o3d.geometry.PointCloud() #Create PC object\n",
    "    pcd.points = o3d.utility.Vector3dVector(point_data) #Give coordinates\n",
    "    #Coloring the PC\n",
    "    if len(color_data) == 0:\n",
    "        pcd.paint_uniform_color([1, 0, 0])\n",
    "    else:\n",
    "        pcd.colors = o3d.utility.Vector3dVector(color_data)\n",
    "    return pcd\n",
    "\n",
    "# Axis alignment of given point cloud\n",
    "def axisAlignment(main_pcd):\n",
    "    \"\"\"Rotating/axis aligning the pointcloud\n",
    "    input: main_pcd = initial pointcloud (open3d.geometry.PointCloud object)\n",
    "    output: main_pcd = rotated pointcloud (open3d.geometry.PointCloud object)\"\"\"\n",
    "    bbox = main_pcd.get_oriented_bounding_box()\n",
    "    inverse_R = np.linalg.inv(bbox.R)\n",
    "    main_pcd.rotate(inverse_R)\n",
    "    return main_pcd\n",
    "\n",
    "# Path creation for easier loading\n",
    "root_based_input_pc_path = ROOT + \"/data/testdata/data_labelled_int.npy\"\n",
    "input_pc_path = '/Users/nk/Documents/GitHubRepos/Pointnet_Pointnet2_pytorch/data/testdata/data_labelled_int.npy'\n",
    "\n",
    "# Loading relevant data\n",
    "input_pc = np.load(input_pc_path) #ndarray\n",
    "input_pc_points, input_pc_labels = input_pc[:, 0:6], input_pc[:, 6]\n",
    "\n",
    "# Assigning the coordinates\n",
    "input_points = np.stack([input_pc_points[:, 0], \n",
    "                         input_pc_points[:, 1], \n",
    "                         input_pc_points[:, 2]], axis=1)\n",
    "# Assigning color channels\n",
    "red_c   = np.array(input_pc_points[:, 3])\n",
    "green_c = np.array(input_pc_points[:, 4])\n",
    "blue_c  = np.array(input_pc_points[:, 5])\n",
    "# Converting color channels to [0, 1] range\n",
    "red_c   = (red_c - np.min(red_c)) / (np.max(red_c) - np.min(red_c))\n",
    "green_c = (green_c - np.min(green_c)) / (np.max(green_c) - np.min(green_c))\n",
    "blue_c  = (blue_c - np.min(blue_c)) / (np.max(blue_c) - np.min(blue_c))\n",
    "point_sizes = np.zeros(len(input_pc_points))\n",
    "# Marking fracture points\n",
    "for i in range(len(input_points)):\n",
    "    if input_pc_labels[i] == 1:\n",
    "        red_c[i] = 1\n",
    "        green_c[i] = 0\n",
    "        blue_c[i] = 0\n",
    "        point_sizes[i] = 5\n",
    "# Creating color data\n",
    "color_data = np.stack([red_c, green_c, blue_c], axis=1)\n",
    "\n",
    "# Make the point cloud to be displayed\n",
    "viz_pcd = makePC(input_points, color_data)\n",
    "\n",
    "# Cropping the point cloud using bounding boxes\n",
    "bbox = viz_pcd.get_oriented_bounding_box()\n",
    "bbox.color = (0, 1, 0) #bbox in green\n",
    "viz_pcd_cropped = viz_pcd.crop(bbox)\n",
    "\n",
    "o3d.visualization.draw([viz_pcd_cropped], point_size=3)"
   ]
  },
  {
   "cell_type": "markdown",
   "metadata": {},
   "source": [
    "The only thing that might be itneresting to look into at some point is how one can change the thickness/ size of the fracture points. During the quick assembly of this I could find out that the size is only controllable for the entire pc, when using the draw function. I believe there is a trick possibly in the creation of the point cloud, that possibly two have to be created with differing sizes or possibly there is a better way of overlaying two different point clouds with open3d..."
   ]
  }
 ],
 "metadata": {
  "kernelspec": {
   "display_name": "ipynb-venv",
   "language": "python",
   "name": "python3"
  },
  "language_info": {
   "codemirror_mode": {
    "name": "ipython",
    "version": 3
   },
   "file_extension": ".py",
   "mimetype": "text/x-python",
   "name": "python",
   "nbconvert_exporter": "python",
   "pygments_lexer": "ipython3",
   "version": "3.10.13"
  },
  "orig_nbformat": 4
 },
 "nbformat": 4,
 "nbformat_minor": 2
}
