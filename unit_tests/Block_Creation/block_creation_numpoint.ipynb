{
 "cells": [
  {
   "cell_type": "markdown",
   "metadata": {},
   "source": [
    "# Block Creation based on number of points within input PC"
   ]
  },
  {
   "cell_type": "markdown",
   "metadata": {},
   "source": [
    "Description coming..."
   ]
  },
  {
   "cell_type": "markdown",
   "metadata": {},
   "source": [
    "## Imports Functions & Variables for this notebook"
   ]
  },
  {
   "cell_type": "markdown",
   "metadata": {},
   "source": [
    "Description coming soon..."
   ]
  },
  {
   "cell_type": "code",
   "execution_count": 2,
   "metadata": {},
   "outputs": [],
   "source": [
    "# For paths\n",
    "import os \n",
    "\n",
    "# For data processing\n",
    "import torch\n",
    "import numpy as np\n",
    "from torch.utils.data import Dataset\n",
    "import math\n",
    "\n",
    "\n",
    "# For 3D visualization\n",
    "import open3d as o3d\n",
    "import matplotlib.pyplot as plt\n",
    "from mpl_toolkits.mplot3d import proj3d\n",
    "\n",
    "# Setting the root for this repo\n",
    "ROOT = os.path.realpath(\"..\")\n",
    "\n",
    "# Creating/ Making the point cloud\n",
    "def makePC(point_data, color_data=np.array([])):\n",
    "    pcd = o3d.geometry.PointCloud() #Create PC object\n",
    "    pcd.points = o3d.utility.Vector3dVector(point_data) #Give coordinates\n",
    "    #Coloring the PC\n",
    "    if len(color_data) == 0:\n",
    "        pcd.paint_uniform_color([1, 0, 0])\n",
    "    else:\n",
    "        pcd.colors = o3d.utility.Vector3dVector(color_data)\n",
    "    return pcd\n",
    "\n",
    "# Axis alignment of given point cloud\n",
    "def axisAlignment(main_pcd):\n",
    "    \"\"\"Rotating/axis aligning the pointcloud\n",
    "    input: main_pcd = initial pointcloud (open3d.geometry.PointCloud object)\n",
    "    output: main_pcd = rotated pointcloud (open3d.geometry.PointCloud object)\"\"\"\n",
    "    bbox = main_pcd.get_oriented_bounding_box()\n",
    "    inverse_R = np.linalg.inv(bbox.R)\n",
    "    main_pcd.rotate(inverse_R)\n",
    "    return main_pcd"
   ]
  },
  {
   "cell_type": "markdown",
   "metadata": {},
   "source": [
    "## Loading of the input data"
   ]
  },
  {
   "cell_type": "code",
   "execution_count": 18,
   "metadata": {},
   "outputs": [
    {
     "name": "stdout",
     "output_type": "stream",
     "text": [
      "--------- Print checks for input data ---------\n",
      "The input data consists of 662525 points.\n",
      "The input data is of shape: (662525, 7)\n",
      "The input data contains 8199 fracture points.\n",
      "Therefore, 654326 points are non-fracture points in the entire sample.\n",
      "This means that 1.2375% of all points are fracture points\n",
      "------------------------------------------------\n"
     ]
    }
   ],
   "source": [
    "# Path creation for easier loading\n",
    "input_pc_path = ROOT + \"/data/testdata/data_labelled_int.npy\"\n",
    "\n",
    "# Loading relevant data\n",
    "input_pc = np.load(input_pc_path) #ndarray\n",
    "input_pc_points, input_pc_labels = input_pc[:, 0:6], input_pc[:, 6]\n",
    "\n",
    "# Print checks for the input data\n",
    "print(\"--------- Print checks for input data ---------\")\n",
    "print(f\"The input data consists of {len(input_pc)} points.\")\n",
    "print(f\"The input data is of shape: {input_pc.shape}\")\n",
    "print(f\"The input data contains {np.count_nonzero(input_pc_labels)} fracture points.\")\n",
    "print(f\"Therefore, {len(input_pc) - np.count_nonzero(input_pc_labels)} points are non-fracture points in the entire sample.\")\n",
    "print(f\"This means that {np.round(np.count_nonzero(input_pc_labels) / len(input_pc) * 100, 4)}% of all points are fracture points\")\n",
    "print(\"------------------------------------------------\")"
   ]
  },
  {
   "cell_type": "markdown",
   "metadata": {},
   "source": [
    "### Analysis of the input cloud coordinate spread\n"
   ]
  },
  {
   "cell_type": "code",
   "execution_count": 19,
   "metadata": {},
   "outputs": [
    {
     "name": "stdout",
     "output_type": "stream",
     "text": [
      "---------- Print Check for X-Coordinate ----------\n",
      "The minimum value in x-direction is: 0.0\n",
      "The maximum value in x-direction is: 288.8758689999813\n",
      "The mean value in x-direction is: 165.61342139521435\n",
      "The variance in x-direction is: 4299.517704445124\n",
      "---------- Print Check for Y-Coordinate ----------\n",
      "The minimum value in y-direction is: 0.0\n",
      "The maximnum value in y-direction is: 226.1995279993862\n",
      "The mean value in y-direction is: 104.99673473649423\n",
      "The variance in y-direction is: 2716.543347393639\n",
      "---------- Print Check for Z-Coordinate ----------\n",
      "The minimum value in z-direction is: 0.0\n",
      "The maximnum value in z-direction is: 177.267736\n",
      "The mean value in z-direction is: 74.85754577858197\n",
      "The variance in z-direction is: 2083.001901645439\n"
     ]
    }
   ],
   "source": [
    "print('---------- Print Check for X-Coordinate ----------')\n",
    "print(f\"The minimum value in x-direction is: {np.min(input_pc_points[:, 0])}\")\n",
    "print(f\"The maximum value in x-direction is: {np.max(input_pc_points[:, 0])}\")\n",
    "print(f'The mean value in x-direction is: {np.mean(input_pc_points[:, 0])}')\n",
    "print(f'The variance in x-direction is: {np.var(input_pc_points[:, 0])}')\n",
    "print('---------- Print Check for Y-Coordinate ----------')\n",
    "print(f\"The minimum value in y-direction is: {np.min(input_pc_points[:, 1])}\")\n",
    "print(f\"The maximum value in y-direction is: {np.max(input_pc_points[:, 1])}\")\n",
    "print(f'The mean value in y-direction is: {np.mean(input_pc_points[:, 1])}')\n",
    "print(f'The variance in y-direction is: {np.var(input_pc_points[:, 1])}')\n",
    "print('---------- Print Check for Z-Coordinate ----------')\n",
    "print(f\"The minimum value in z-direction is: {np.min(input_pc_points[:, 2])}\")\n",
    "print(f\"The maximum value in z-direction is: {np.max(input_pc_points[:, 2])}\")\n",
    "print(f'The mean value in z-direction is: {np.mean(input_pc_points[:, 2])}')\n",
    "print(f'The variance in z-direction is: {np.var(input_pc_points[:, 2])}')"
   ]
  },
  {
   "cell_type": "markdown",
   "metadata": {},
   "source": [
    "## Block center coordinate creation with half block padding around edges"
   ]
  },
  {
   "cell_type": "markdown",
   "metadata": {},
   "source": [
    "Description coming soon..."
   ]
  },
  {
   "cell_type": "code",
   "execution_count": 5,
   "metadata": {},
   "outputs": [],
   "source": [
    "# Given HP and parameters\n",
    "num_point = 4096\n",
    "block_size = 10.0\n",
    "sample_rate = 1.0\n",
    "\n",
    "# Determining maximum number of blocks for sample\n",
    "max_num_blocks = int(np.sum(input_pc_labels.size) * sample_rate / num_point)\n",
    "\n",
    "# Determining maximum and minimum points\n",
    "coord_min, coord_max = np.amin(input_pc_points, axis=0)[:3], np.max(input_pc_points, axis=0)[:3]\n",
    "\n",
    "# Creating spacing variables for block center creation\n",
    "blocks_x_res = math.floor(np.sqrt(max_num_blocks))\n",
    "blocks_y_res = math.floor(np.sqrt(max_num_blocks))\n",
    "num_blocks = (blocks_x_res - 1)**2 #actual no. of blocks after padding with half on each side\n",
    "blocks_center_x_start = (1 / blocks_x_res) * coord_max[0]\n",
    "blocks_center_y_start = (1 / blocks_y_res) * coord_max[1]\n",
    "\n",
    "# Creating block center coordinates\n",
    "blocks_center_x_coords = np.linspace(start=blocks_center_x_start, \n",
    "                                     stop=coord_max[0]-blocks_center_x_start, \n",
    "                                     num=blocks_x_res-1)\n",
    "blocks_center_y_coords = np.linspace(start=blocks_center_y_start, \n",
    "                                     stop=coord_max[1]-blocks_center_y_start, \n",
    "                                     num=blocks_y_res-1)\n",
    "blocks_center_xx_coords, blocks_center_yy_coords = np.meshgrid(blocks_center_x_coords, \n",
    "                                                                blocks_center_y_coords)\n",
    "#TODO: Calculate the average z-coordinate for each block and append as block center\n",
    "blocks_center_zz_coords = np.zeros((blocks_center_xx_coords.shape))\n",
    "blocks_center_coords = np.hstack([blocks_center_xx_coords.reshape((-1, 1)),\n",
    "                                  blocks_center_yy_coords.reshape((-1, 1)),\n",
    "                                  blocks_center_zz_coords.reshape((-1,1))])"
   ]
  },
  {
   "cell_type": "markdown",
   "metadata": {},
   "source": [
    "## Analysis of block creation based on block size"
   ]
  },
  {
   "cell_type": "markdown",
   "metadata": {},
   "source": [
    "Description coming..."
   ]
  },
  {
   "cell_type": "code",
   "execution_count": 7,
   "metadata": {},
   "outputs": [
    {
     "name": "stdout",
     "output_type": "stream",
     "text": [
      "---------- Print checks for the input pc blocks ----------\n",
      "The input point cloud was divided into 121 blocks.\n",
      "The number of points of the original input pc that are now contained within blocks is: 136658\n",
      "The number of blocks that have more points than the subsampling goal: 1\n",
      "The number of blocks that have less points then the subsampling goal: 120\n",
      "The number of blocks which have no subsampled points at all: 39\n",
      "The maximum amount of points within a block is: 4328\n",
      "The average amount of points of the blocks that have enough points is: 4328.0\n",
      "The average amount of points of the blocks that have to few points is: 1102.75\n",
      "On average there are 14.19 fracture points within a block.\n",
      "On average the blocks with enough points have 58.0 fracture points within a block.\n",
      "On average the blocks with fewer points have 13.82 fracture points within a block.\n",
      "The amount of blocks that do not contain any fracture points are: 62\n"
     ]
    }
   ],
   "source": [
    "# Placeholder variables to fill with values \n",
    "block_point_idxs = [] #actual indices of points of input pc within respective block\n",
    "block_num_frac_points = [] #actual labels of points of input pc within respective block\n",
    "block_num_input_pc_points = [] #number of points of input pc in respective block\n",
    "block_mins = [] #block minimum coordinate\n",
    "block_maxs = [] #block maximum coordiante\n",
    "\n",
    "\n",
    "# Looping through the created block centers to check for number of points\n",
    "for index, block_center in enumerate(blocks_center_coords):\n",
    "    block_min = block_center[:2] - [block_size / 2.0, block_size / 2.0]\n",
    "    block_max = block_center[:2] + [block_size / 2.0, block_size / 2.0]\n",
    "    # Determining the number of points in the block\n",
    "    points_in_block = np.where((input_pc_points[:, 0] >= block_min[0]) & \\\n",
    "                               (input_pc_points[:, 0] <= block_max[0]) & \\\n",
    "                               (input_pc_points[:, 1] >= block_min[1]) & \\\n",
    "                               (input_pc_points[:, 1] <= block_max[1]))[0]\n",
    "    #Pulling corresponding values for each block for analysis\n",
    "    selected_points_idxs = input_pc_points[points_in_block]\n",
    "    block_point_idxs.append(selected_points_idxs)\n",
    "    selected_points_labels = input_pc_labels[points_in_block]\n",
    "    block_num_frac_points.append(np.sum(selected_points_labels))\n",
    "    block_num_input_pc_points.append(points_in_block.size)\n",
    "    block_mins.append(block_min)\n",
    "    block_maxs.append(block_max)\n",
    "\n",
    "\n",
    "# Preparation for the print checks of the input pc\n",
    "points_in_blocks_with_enough_points = [i for i in block_num_input_pc_points if i >= num_point]\n",
    "idxs_blocks_with_enough_points = np.array([idx for idx, val in enumerate(block_num_input_pc_points) if val >= num_point], dtype=int)\n",
    "points_in_blocks_with_fewer_points = [i for i in block_num_input_pc_points if i < num_point]\n",
    "idxs_blocks_with_fewer_points = np.array([idx for idx, val in enumerate(block_num_input_pc_points) if val < num_point], dtype=int)\n",
    "num_blocks_without_any_points = [i for i in block_num_input_pc_points if i == 0]\n",
    "indices_of_blocks_with_zero_points = [idx for idx, val in enumerate(block_num_input_pc_points) if val == 0]\n",
    "num_blocks_with_too_little_points = num_blocks - len(points_in_blocks_with_enough_points)\n",
    "general_block_frac_point_avg = np.round(np.mean(block_num_frac_points), 2)\n",
    "blocks_with_enough_points_frac_point_avg = np.round(np.mean(np.array(block_num_frac_points)[idxs_blocks_with_enough_points]), 2)\n",
    "blocks_with_fewer_points_frac_point_avg = np.round(np.mean(np.array(block_num_frac_points)[idxs_blocks_with_fewer_points]), 2)\n",
    "\n",
    "\n",
    "# Print checks for the blocks within the input pc\n",
    "print('---------- Print checks for the input pc blocks ----------')\n",
    "print(f'The input point cloud was divided into {len(blocks_center_coords)} blocks.')\n",
    "print(f'The number of points of the original input pc that are now contained within blocks is: {np.sum(block_num_input_pc_points)}')\n",
    "print(f'The number of blocks that have more points than the subsampling goal: {len(points_in_blocks_with_enough_points)}')\n",
    "print(f'The number of blocks that have less points then the subsampling goal: {num_blocks_with_too_little_points}')\n",
    "print(f'The number of blocks which have no subsampled points at all: {len(indices_of_blocks_with_zero_points)}')\n",
    "print(f'The maximum amount of points within a block is: {np.max(points_in_blocks_with_enough_points)}')\n",
    "print(f'The average amount of points of the blocks that have enough points is: {np.round(np.mean(points_in_blocks_with_enough_points), 2)}')\n",
    "print(f'The average amount of points of the blocks that have fewer points is: {np.round(np.mean(points_in_blocks_with_fewer_points), 2)}')\n",
    "print(f'On average there are {general_block_frac_point_avg} fracture points within a block.')\n",
    "print(f'On average the blocks with enough points have {blocks_with_enough_points_frac_point_avg} fracture points within a block.')\n",
    "print(f'On average the blocks with fewer points have {blocks_with_fewer_points_frac_point_avg} fracture points within a block.')\n",
    "print(f'The amount of blocks that do not contain any fracture points are: {block_num_frac_points.count(0)}')"
   ]
  },
  {
   "cell_type": "markdown",
   "metadata": {},
   "source": [
    "## Visualization of input PC and enlarged block center coordinates"
   ]
  },
  {
   "cell_type": "markdown",
   "metadata": {},
   "source": [
    "Description coming..."
   ]
  },
  {
   "cell_type": "code",
   "execution_count": 20,
   "metadata": {},
   "outputs": [
    {
     "name": "stdout",
     "output_type": "stream",
     "text": [
      "------ Print check for input point cloud ------\n",
      "The input point cloud consists of 662646 number of points.\n",
      "The minimum coordinates of the point cloud are: [0. 0. 0.]\n",
      "The maximum coordinates of the point cloud are: [288.875869 226.199528 177.267736]\n",
      "------ Print check for cropped input point cloud ------\n",
      "The cropped point cloud consists of 662645 number of points.\n",
      "The bounding box cropping removed 1 points.\n",
      "The minimum coordinates of the cropped point cloud are: [0. 0. 0.]\n",
      "The maximum coordinates of the point cloud are: [288.875869 226.199528 177.267736]\n"
     ]
    },
    {
     "name": "stderr",
     "output_type": "stream",
     "text": [
      "[error] GLFW error: Cocoa: Failed to find service port for display\n"
     ]
    },
    {
     "ename": "",
     "evalue": "",
     "output_type": "error",
     "traceback": [
      "\u001b[1;31mThe Kernel crashed while executing code in the the current cell or a previous cell. Please review the code in the cell(s) to identify a possible cause of the failure. Click <a href='https://aka.ms/vscodeJupyterKernelCrash'>here</a> for more info. View Jupyter <a href='command:jupyter.viewOutput'>log</a> for further details."
     ]
    }
   ],
   "source": [
    "# Path to input data\n",
    "input_data_path = ROOT + \"/data/testdata/data_labelled_int.npy\"\n",
    "\n",
    "# Load the input data\n",
    "input_data = np.load(input_data_path)\n",
    "\n",
    "# Assigning the coordinates\n",
    "input_points = np.stack([input_data[:, 0], \n",
    "                         input_data[:, 1], \n",
    "                         input_data[:, 2]], axis=1)\n",
    "# Assigning color channels\n",
    "red_c   = np.array(input_data[:, 3])\n",
    "green_c = np.array(input_data[:, 4])\n",
    "blue_c  = np.array(input_data[:, 5])\n",
    "# Converting color channels to [0, 1] range\n",
    "red_c   = (red_c - np.min(red_c)) / (np.max(red_c) - np.min(red_c))\n",
    "green_c = (green_c - np.min(green_c)) / (np.max(green_c) - np.min(green_c))\n",
    "blue_c  = (blue_c - np.min(blue_c)) / (np.max(blue_c) - np.min(blue_c))\n",
    "# Creating color data\n",
    "color_data = np.stack([red_c, green_c, blue_c], axis=1)\n",
    "\n",
    "# Appending the block center coordinates to the visualisation data\n",
    "input_points = np.vstack((input_points, blocks_center_coords))\n",
    "block_centers_red_c = np.ones(len(blocks_center_coords))\n",
    "block_centers_green_c = np.zeros(len(blocks_center_coords))\n",
    "block_centers_blue_c = np.zeros(len(blocks_center_coords))\n",
    "block_center_colors = np.stack([block_centers_red_c, block_centers_green_c, block_centers_blue_c], \n",
    "                               axis=1)\n",
    "color_data = np.vstack((color_data, block_center_colors))\n",
    "\n",
    "# Make the point cloud to be displayed\n",
    "viz_pcd = makePC(input_points, color_data)\n",
    "\n",
    "# Print check for point cloud\n",
    "print(\"------ Print check for input point cloud ------\")\n",
    "print(f\"The input point cloud consists of {len(viz_pcd.points)} number of points.\")\n",
    "print(f\"The minimum coordinates of the point cloud are: {np.amin(np.asarray(viz_pcd.points), axis=0)}\")\n",
    "print(f\"The maximum coordinates of the point cloud are: {np.amax(np.asarray(viz_pcd.points), axis=0)}\")\n",
    "# Minimum will be [0, 0, 0] as the input data has been shifted already\n",
    "\n",
    "# Cropping the point cloud using bounding boxes\n",
    "bbox = viz_pcd.get_oriented_bounding_box()\n",
    "bbox.color = (0, 1, 0) #bbox in green\n",
    "viz_pcd_cropped = viz_pcd.crop(bbox)\n",
    "\n",
    "# Print check for cropped point cloud\n",
    "print(\"------ Print check for cropped input point cloud ------\")\n",
    "print(f\"The cropped point cloud consists of {len(viz_pcd_cropped.points)} number of points.\")\n",
    "print(f\"The bounding box cropping removed {len(viz_pcd.points) - len(viz_pcd_cropped.points)} points.\")\n",
    "print(f\"The minimum coordinates of the cropped point cloud are: {np.amin(np.asarray(viz_pcd_cropped.points), axis=0)}\")\n",
    "print(f\"The maximum coordinates of the point cloud are: {np.amax(np.asarray(viz_pcd_cropped.points), axis=0)}\")\n",
    "# Minimum will be [0, 0, 0] as the input data has been shifted already\n",
    "\n",
    "# Visualizing the point cloud\n",
    "o3d.visualization.draw([viz_pcd_cropped])"
   ]
  },
  {
   "cell_type": "code",
   "execution_count": null,
   "metadata": {},
   "outputs": [],
   "source": []
  }
 ],
 "metadata": {
  "kernelspec": {
   "display_name": "ipynb-venv",
   "language": "python",
   "name": "python3"
  },
  "language_info": {
   "codemirror_mode": {
    "name": "ipython",
    "version": 3
   },
   "file_extension": ".py",
   "mimetype": "text/x-python",
   "name": "python",
   "nbconvert_exporter": "python",
   "pygments_lexer": "ipython3",
   "version": "3.10.13"
  },
  "orig_nbformat": 4
 },
 "nbformat": 4,
 "nbformat_minor": 2
}
